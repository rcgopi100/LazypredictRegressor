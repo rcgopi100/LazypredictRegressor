{
 "cells": [
  {
   "cell_type": "code",
   "execution_count": null,
   "metadata": {},
   "outputs": [],
   "source": [
    "#Install lazypredict\n",
    "pip install lazypredict"
   ]
  },
  {
   "cell_type": "code",
   "execution_count": 25,
   "metadata": {},
   "outputs": [],
   "source": [
    "#Import Lazypredict and import all libraries\n",
    "import lazypredict\n",
    "from lazypredict.Supervised import LazyRegressor\n",
    "from sklearn.model_selection import train_test_split\n",
    "import os\n",
    "import pandas as pd\n",
    "pd.set_option('float_format', '{:f}'.format)\n",
    "import numpy as np"
   ]
  },
  {
   "cell_type": "code",
   "execution_count": 26,
   "metadata": {},
   "outputs": [],
   "source": [
    "#Function to download and read delivery days CSV file\n",
    "DATA_FILES_PATH = r\"C:\\\\Users\\\\gchandr4\\\\Documents\\\\Blogs\\\\Customer Price Prediction\"\n",
    "def load_customer_data(data_path=DATA_FILES_PATH):\n",
    "    csv_path = os.path.join(data_path, \"customer_data.csv\")\n",
    "    return pd.read_csv(csv_path)"
   ]
  },
  {
   "cell_type": "code",
   "execution_count": 27,
   "metadata": {},
   "outputs": [],
   "source": [
    "#load the data\n",
    "data = load_customer_data()"
   ]
  },
  {
   "cell_type": "code",
   "execution_count": 28,
   "metadata": {},
   "outputs": [
    {
     "data": {
      "text/html": [
       "<div>\n",
       "<style scoped>\n",
       "    .dataframe tbody tr th:only-of-type {\n",
       "        vertical-align: middle;\n",
       "    }\n",
       "\n",
       "    .dataframe tbody tr th {\n",
       "        vertical-align: top;\n",
       "    }\n",
       "\n",
       "    .dataframe thead th {\n",
       "        text-align: right;\n",
       "    }\n",
       "</style>\n",
       "<table border=\"1\" class=\"dataframe\">\n",
       "  <thead>\n",
       "    <tr style=\"text-align: right;\">\n",
       "      <th></th>\n",
       "      <th>Sold To</th>\n",
       "      <th>Ship To</th>\n",
       "      <th>Material</th>\n",
       "      <th>Price/Qty (USD)</th>\n",
       "      <th>Qty</th>\n",
       "      <th>Total Price (USD)</th>\n",
       "    </tr>\n",
       "  </thead>\n",
       "  <tbody>\n",
       "    <tr>\n",
       "      <th>0</th>\n",
       "      <td>1019733606</td>\n",
       "      <td>2020999825</td>\n",
       "      <td>40321040322</td>\n",
       "      <td>676</td>\n",
       "      <td>96</td>\n",
       "      <td>64896</td>\n",
       "    </tr>\n",
       "    <tr>\n",
       "      <th>1</th>\n",
       "      <td>1018240245</td>\n",
       "      <td>2011020734</td>\n",
       "      <td>40329968668</td>\n",
       "      <td>412</td>\n",
       "      <td>92</td>\n",
       "      <td>37904</td>\n",
       "    </tr>\n",
       "    <tr>\n",
       "      <th>2</th>\n",
       "      <td>1013606125</td>\n",
       "      <td>2021012587</td>\n",
       "      <td>40325529556</td>\n",
       "      <td>533</td>\n",
       "      <td>41</td>\n",
       "      <td>21853</td>\n",
       "    </tr>\n",
       "    <tr>\n",
       "      <th>3</th>\n",
       "      <td>1026160794</td>\n",
       "      <td>2018327772</td>\n",
       "      <td>40326638721</td>\n",
       "      <td>188</td>\n",
       "      <td>19</td>\n",
       "      <td>3572</td>\n",
       "    </tr>\n",
       "    <tr>\n",
       "      <th>4</th>\n",
       "      <td>1019775063</td>\n",
       "      <td>2012844064</td>\n",
       "      <td>40324755545</td>\n",
       "      <td>720</td>\n",
       "      <td>60</td>\n",
       "      <td>43200</td>\n",
       "    </tr>\n",
       "  </tbody>\n",
       "</table>\n",
       "</div>"
      ],
      "text/plain": [
       "      Sold To     Ship To     Material  Price/Qty (USD)  Qty  \\\n",
       "0  1019733606  2020999825  40321040322              676   96   \n",
       "1  1018240245  2011020734  40329968668              412   92   \n",
       "2  1013606125  2021012587  40325529556              533   41   \n",
       "3  1026160794  2018327772  40326638721              188   19   \n",
       "4  1019775063  2012844064  40324755545              720   60   \n",
       "\n",
       "   Total Price (USD)  \n",
       "0              64896  \n",
       "1              37904  \n",
       "2              21853  \n",
       "3               3572  \n",
       "4              43200  "
      ]
     },
     "execution_count": 28,
     "metadata": {},
     "output_type": "execute_result"
    }
   ],
   "source": [
    "#Print Data\n",
    "data.head()"
   ]
  },
  {
   "cell_type": "code",
   "execution_count": 29,
   "metadata": {},
   "outputs": [],
   "source": [
    "#Split data into X and y target\n",
    "X = data[['Sold To', 'Ship To', 'Material', 'Price/Qty (USD)', 'Qty']]\n",
    "y = data[['Total Price (USD)']]"
   ]
  },
  {
   "cell_type": "code",
   "execution_count": 30,
   "metadata": {},
   "outputs": [],
   "source": [
    "X_train, X_test, y_train, y_test = train_test_split(X, y,test_size=.5,random_state =123)"
   ]
  },
  {
   "cell_type": "code",
   "execution_count": 31,
   "metadata": {},
   "outputs": [
    {
     "name": "stderr",
     "output_type": "stream",
     "text": [
      "100%|██████████████████████████████████████████████████████████████████████████████████| 42/42 [00:02<00:00, 20.57it/s]\n"
     ]
    }
   ],
   "source": [
    "clf = LazyRegressor(verbose=0,ignore_warnings=True, custom_metric=None)\n",
    "models, predictions = clf.fit(X_train, X_test, y_train, y_test)"
   ]
  },
  {
   "cell_type": "code",
   "execution_count": 32,
   "metadata": {},
   "outputs": [
    {
     "name": "stdout",
     "output_type": "stream",
     "text": [
      "                               Adjusted R-Squared  R-Squared         RMSE  \\\n",
      "Model                                                                       \n",
      "DecisionTreeRegressor                    1.000000   1.000000     0.000000   \n",
      "ExtraTreesRegressor                      0.999996   0.999996    65.667529   \n",
      "XGBRegressor                             0.999989   0.999989   105.431512   \n",
      "ExtraTreeRegressor                       0.999974   0.999974   159.799293   \n",
      "RandomForestRegressor                    0.999819   0.999821   420.760396   \n",
      "BaggingRegressor                         0.999743   0.999746   500.915888   \n",
      "HistGradientBoostingRegressor            0.999418   0.999424   754.389006   \n",
      "LGBMRegressor                            0.999399   0.999405   766.450977   \n",
      "GradientBoostingRegressor                0.999021   0.999031   978.470164   \n",
      "GaussianProcessRegressor                 0.991668   0.991752  2854.725904   \n",
      "AdaBoostRegressor                        0.973038   0.973308  5135.432221   \n",
      "KNeighborsRegressor                      0.946168   0.946708  7256.405860   \n",
      "PoissonRegressor                         0.920593   0.921388  8813.175012   \n",
      "LarsCV                                   0.874240   0.875500 11091.085843   \n",
      "LassoLarsCV                              0.874240   0.875500 11091.085843   \n",
      "LassoCV                                  0.874239   0.875499 11091.095428   \n",
      "LassoLarsIC                              0.874225   0.875485 11091.726442   \n",
      "Ridge                                    0.874163   0.875424 11094.465950   \n",
      "RidgeCV                                  0.874163   0.875424 11094.465950   \n",
      "BayesianRidge                            0.874148   0.875409 11095.122622   \n",
      "LassoLars                                0.874133   0.875394 11095.774402   \n",
      "Lasso                                    0.874098   0.875359 11097.335123   \n",
      "Lars                                     0.874096   0.875358 11097.412234   \n",
      "LinearRegression                         0.874096   0.875358 11097.412234   \n",
      "TransformedTargetRegressor               0.874096   0.875358 11097.412234   \n",
      "SGDRegressor                             0.874010   0.875273 11101.184242   \n",
      "OrthogonalMatchingPursuitCV              0.873945   0.875208 11104.079787   \n",
      "HuberRegressor                           0.867924   0.869247 11366.175046   \n",
      "PassiveAggressiveRegressor               0.857111   0.858543 11822.295856   \n",
      "ElasticNet                               0.776357   0.778598 14790.389572   \n",
      "RANSACRegressor                          0.735965   0.738611 16070.619670   \n",
      "TweedieRegressor                         0.649481   0.652993 18516.465197   \n",
      "GeneralizedLinearRegressor               0.649481   0.652993 18516.465197   \n",
      "GammaRegressor                           0.632317   0.636001 18964.396366   \n",
      "OrthogonalMatchingPursuit                0.534440   0.539105 21339.778094   \n",
      "ElasticNetCV                             0.059688   0.069110 30327.602403   \n",
      "NuSVR                                   -0.009266   0.000847 31419.905512   \n",
      "DummyRegressor                          -0.013401  -0.003247 31484.209408   \n",
      "SVR                                     -0.027627  -0.017330 31704.423676   \n",
      "KernelRidge                             -0.875217  -0.856427 42828.000191   \n",
      "LinearSVR                               -1.491864  -1.466895 49370.126782   \n",
      "MLPRegressor                            -1.521979  -1.496708 49667.553278   \n",
      "\n",
      "                               Time Taken  \n",
      "Model                                      \n",
      "DecisionTreeRegressor            0.011968  \n",
      "ExtraTreesRegressor              0.103405  \n",
      "XGBRegressor                     0.045250  \n",
      "ExtraTreeRegressor               0.027434  \n",
      "RandomForestRegressor            0.179598  \n",
      "BaggingRegressor                 0.031242  \n",
      "HistGradientBoostingRegressor    0.347581  \n",
      "LGBMRegressor                    0.050692  \n",
      "GradientBoostingRegressor        0.064550  \n",
      "GaussianProcessRegressor         0.031249  \n",
      "AdaBoostRegressor                0.076498  \n",
      "KNeighborsRegressor              0.027400  \n",
      "PoissonRegressor                 0.000000  \n",
      "LarsCV                           0.015622  \n",
      "LassoLarsCV                      0.019946  \n",
      "LassoCV                          0.067971  \n",
      "LassoLarsIC                      0.011970  \n",
      "Ridge                            0.005543  \n",
      "RidgeCV                          0.016876  \n",
      "BayesianRidge                    0.028096  \n",
      "LassoLars                        0.018568  \n",
      "Lasso                            0.015621  \n",
      "Lars                             0.015621  \n",
      "LinearRegression                 0.011966  \n",
      "TransformedTargetRegressor       0.025389  \n",
      "SGDRegressor                     0.000000  \n",
      "OrthogonalMatchingPursuitCV      0.012012  \n",
      "HuberRegressor                   0.031243  \n",
      "PassiveAggressiveRegressor       0.015621  \n",
      "ElasticNet                       0.012965  \n",
      "RANSACRegressor                  0.015622  \n",
      "TweedieRegressor                 0.010971  \n",
      "GeneralizedLinearRegressor       0.019741  \n",
      "GammaRegressor                   0.012505  \n",
      "OrthogonalMatchingPursuit        0.010971  \n",
      "ElasticNetCV                     0.039258  \n",
      "NuSVR                            0.035672  \n",
      "DummyRegressor                   0.008976  \n",
      "SVR                              0.015625  \n",
      "KernelRidge                      0.020321  \n",
      "LinearSVR                        0.005038  \n",
      "MLPRegressor                     0.524264  \n"
     ]
    }
   ],
   "source": [
    "print(models)"
   ]
  },
  {
   "cell_type": "code",
   "execution_count": null,
   "metadata": {},
   "outputs": [],
   "source": []
  }
 ],
 "metadata": {
  "kernelspec": {
   "display_name": "Python 3",
   "language": "python",
   "name": "python3"
  },
  "language_info": {
   "codemirror_mode": {
    "name": "ipython",
    "version": 3
   },
   "file_extension": ".py",
   "mimetype": "text/x-python",
   "name": "python",
   "nbconvert_exporter": "python",
   "pygments_lexer": "ipython3",
   "version": "3.8.5"
  }
 },
 "nbformat": 4,
 "nbformat_minor": 4
}
